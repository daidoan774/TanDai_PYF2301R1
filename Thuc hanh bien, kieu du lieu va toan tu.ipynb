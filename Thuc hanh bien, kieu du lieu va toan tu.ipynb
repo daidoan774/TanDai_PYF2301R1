{
 "cells": [
  {
   "cell_type": "code",
   "execution_count": 27,
   "id": "5d5e40ae",
   "metadata": {},
   "outputs": [
    {
     "name": "stdout",
     "output_type": "stream",
     "text": [
      "Điểm trung bình của ban : 8.666666666666666 điểm\n",
      "Bạn Giỏi\n"
     ]
    }
   ],
   "source": [
    "#Bai 1\n",
    "toan = 10 \n",
    "ly = 8 \n",
    "hoa = 8\n",
    "\n",
    "DTB = (toan + ly + hoa)/3\n",
    "print(\"Điểm trung bình của ban :\", DTB,\"điểm\")\n",
    "\n",
    "if DTB >= 8:\n",
    "    print(\"Bạn Giỏi\")\n",
    "elif DTB >=6 and DTB < 8:\n",
    "    print(\"Bạn Khá Đó\")\n",
    "else:\n",
    "    print (\"Bạn Trung Bình rồi\")\n"
   ]
  },
  {
   "cell_type": "code",
   "execution_count": 56,
   "id": "727d3ce1",
   "metadata": {},
   "outputs": [
    {
     "name": "stdout",
     "output_type": "stream",
     "text": [
      "Participation_percent:80\n",
      "Course_complete_percent:80\n",
      "final_exam_mark:7.5\n",
      "bạn đã hoàn thành khóa học\n"
     ]
    }
   ],
   "source": [
    "#bài 2\n",
    "a = float(input(\"Participation_percent:\"))\n",
    "b = float(input(\"Course_complete_percent:\"))\n",
    "c = float(input(\"final_exam_mark:\"))\n",
    "\n",
    "if a >75 and b >= 80 and c >= 7.5:\n",
    "    print(\"bạn đã hoàn thành khóa học\")\n",
    "else:\n",
    "    print(\"Bạn chưa hoàn thành đâu\")"
   ]
  },
  {
   "cell_type": "code",
   "execution_count": 66,
   "id": "23602282",
   "metadata": {},
   "outputs": [
    {
     "name": "stdout",
     "output_type": "stream",
     "text": [
      "Ta có đoàn tàu đi với V = 33km\n",
      "đổi km = 33000 m\n",
      "1 Giờ = 60 phút\n",
      "a) TB một phút đoàn tàu đi được số mét là : 550.0 m\n",
      "b), Đổi 1 giờ 12 phút = 72 phút\n",
      "Sau 72 phút thì đoàn tàu đi được số mét là : 39600.0 m\n"
     ]
    }
   ],
   "source": [
    "#bài 3\n",
    "print(\"Ta có đoàn tàu đi với V = 33km\")\n",
    "v=33000\n",
    "t=60\n",
    "print(\"đổi km =\",v,\"m\")\n",
    "print(\"1 Giờ =\",t,\"phút\")\n",
    "TB = v/t\n",
    "print(\"a)\", \"TB một phút đoàn tàu đi được số mét là :\",TB,\"m\")\n",
    "print(\"b), Đổi 1 giờ 12 phút = 72 phút\")\n",
    "t2 = 72\n",
    "s2 =TB * 72\n",
    "print(\"Sau 72 phút thì đoàn tàu đi được số mét là :\",s2,\"m\")"
   ]
  }
 ],
 "metadata": {
  "kernelspec": {
   "display_name": "Python 3 (ipykernel)",
   "language": "python",
   "name": "python3"
  },
  "language_info": {
   "codemirror_mode": {
    "name": "ipython",
    "version": 3
   },
   "file_extension": ".py",
   "mimetype": "text/x-python",
   "name": "python",
   "nbconvert_exporter": "python",
   "pygments_lexer": "ipython3",
   "version": "3.11.1"
  }
 },
 "nbformat": 4,
 "nbformat_minor": 5
}
