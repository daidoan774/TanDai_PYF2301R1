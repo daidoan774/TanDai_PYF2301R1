{
 "cells": [
  {
   "cell_type": "markdown",
   "metadata": {},
   "source": [
    "## Review: type()"
   ]
  },
  {
   "cell_type": "code",
   "execution_count": null,
   "metadata": {},
   "outputs": [],
   "source": [
    "# Python có 4 kiểu dữ liệu cơ bản"
   ]
  },
  {
   "cell_type": "markdown",
   "metadata": {},
   "source": [
    "## list là gì?"
   ]
  },
  {
   "cell_type": "code",
   "execution_count": null,
   "metadata": {},
   "outputs": [],
   "source": [
    "# Ví dụ"
   ]
  },
  {
   "cell_type": "code",
   "execution_count": 6,
   "metadata": {},
   "outputs": [
    {
     "name": "stdout",
     "output_type": "stream",
     "text": [
      "please input: 3\n",
      "[3]\n"
     ]
    }
   ],
   "source": [
    "# Sử dụng list\n",
    "l = []\n",
    "n = int(input(\"please input: \")) \n",
    "l.append(n)\n",
    "print(l)"
   ]
  },
  {
   "cell_type": "code",
   "execution_count": 15,
   "metadata": {},
   "outputs": [
    {
     "name": "stdout",
     "output_type": "stream",
     "text": [
      "6\n",
      "[5, 10, 5, 6, 7, 8]\n"
     ]
    }
   ],
   "source": [
    "l = [1,2,3,4,5,10,4,5,6,7,8]\n",
    "count = 0\n",
    "maxx=[]\n",
    "#dem soo phan tu lon hon 10\n",
    "for i in range(len(l)):\n",
    "    if l[i] > 4:\n",
    "        count += 1\n",
    "        maxx.append(l[i])\n",
    "print(count)\n",
    "print(maxx)"
   ]
  },
  {
   "cell_type": "markdown",
   "metadata": {},
   "source": [
    "### Thực hành: Viết chương trình tạo ra một list các string khác nhau và đếm tổng số lượng string dài hơn 3 kí tự"
   ]
  },
  {
   "cell_type": "code",
   "execution_count": 27,
   "metadata": {},
   "outputs": [
    {
     "name": "stdout",
     "output_type": "stream",
     "text": [
      "2\n",
      "['asdd', 'sdsds']\n"
     ]
    }
   ],
   "source": [
    "l = [\"asdd\",\"sdsds\",\"Sda\"]\n",
    "count = 0 \n",
    "maxx = []\n",
    "for i in range(len(l)):\n",
    "    if len(l[i]) > 3:\n",
    "        count +=1\n",
    "        maxx.append(l[i])\n",
    "print(count)\n",
    "print(maxx)"
   ]
  },
  {
   "cell_type": "markdown",
   "metadata": {},
   "source": [
    "### Thực hành 2: Viết chương trình nhận vào 2 list và trả về True nếu 2 list có ít nhất 1 phần tử chung, ngược lại trả về False"
   ]
  },
  {
   "cell_type": "code",
   "execution_count": 29,
   "metadata": {},
   "outputs": [
    {
     "name": "stdout",
     "output_type": "stream",
     "text": [
      "co\n"
     ]
    }
   ],
   "source": [
    "l = [\"asd\",\"a\",\"Dd\"]\n",
    "if \"a\" in l:\n",
    "    print(\"co\")\n",
    "else:\n",
    "    print(\"ko\")"
   ]
  },
  {
   "cell_type": "code",
   "execution_count": 38,
   "metadata": {},
   "outputs": [
    {
     "name": "stdout",
     "output_type": "stream",
     "text": [
      "please input Strings: 3\n",
      "True\n"
     ]
    }
   ],
   "source": [
    "def test(text,string):\n",
    "    if text in string:\n",
    "        return True\n",
    "    else:\n",
    "        return False\n",
    "n = input(\"please input Strings: \")\n",
    "l = [\"3\",\"2\"]\n",
    "a = test(n,l)\n",
    "print(a)"
   ]
  },
  {
   "cell_type": "markdown",
   "metadata": {},
   "source": [
    "## Các thao tác cơ bản với list"
   ]
  },
  {
   "cell_type": "markdown",
   "metadata": {},
   "source": [
    "### Kiểm tra độ dài list"
   ]
  },
  {
   "cell_type": "code",
   "execution_count": 53,
   "metadata": {},
   "outputs": [
    {
     "name": "stdout",
     "output_type": "stream",
     "text": [
      "[3, 2, 5, 6]\n"
     ]
    }
   ],
   "source": [
    "def test(l1,l2):\n",
    "    for i in range(len(l1)):\n",
    "        if l1[i] in l2:\n",
    "            return True\n",
    "    return False\n",
    "\n",
    "l1=[3,2,5,6]\n",
    "l2=[3,2,4,53]\n",
    "a = test(l1,l2)\n",
    "if a == True:\n",
    "    print(l1)\n",
    "else:\n",
    "    print(l2)\n"
   ]
  },
  {
   "cell_type": "markdown",
   "metadata": {},
   "source": [
    "### Truy cập phần tử trên list"
   ]
  },
  {
   "cell_type": "code",
   "execution_count": null,
   "metadata": {},
   "outputs": [],
   "source": []
  },
  {
   "cell_type": "markdown",
   "metadata": {},
   "source": [
    "### Thực hành: Tạo một list 10 số tự nhiên và in ra các phần tử trong list"
   ]
  },
  {
   "cell_type": "code",
   "execution_count": 55,
   "metadata": {},
   "outputs": [
    {
     "name": "stdout",
     "output_type": "stream",
     "text": [
      "1\n",
      "2\n",
      "3\n",
      "4\n",
      "5\n",
      "5\n",
      "67\n",
      "8\n",
      "8\n",
      "9\n",
      "90\n",
      "11\n"
     ]
    }
   ],
   "source": [
    "l = [1,2,3,4,5,5,67,8,8,9,90,11]\n",
    "for i in l:\n",
    "    print(i)"
   ]
  },
  {
   "cell_type": "markdown",
   "metadata": {},
   "source": [
    "### Thực hành 2: Tạo ra một list con chưa 2 phần tử cuối cùng từ list đã tạo ở trên"
   ]
  },
  {
   "cell_type": "code",
   "execution_count": 63,
   "metadata": {},
   "outputs": [
    {
     "name": "stdout",
     "output_type": "stream",
     "text": [
      "[11, 90]\n"
     ]
    }
   ],
   "source": [
    "l = [1,2,3,4,5,5,67,8,8,9,90,11]\n",
    "lson = []\n",
    "lson.append(l[-1])\n",
    "lson.append(l[-2])\n",
    "print(lson)"
   ]
  },
  {
   "cell_type": "code",
   "execution_count": 66,
   "metadata": {},
   "outputs": [
    {
     "name": "stdout",
     "output_type": "stream",
     "text": [
      "[90, 11]\n"
     ]
    }
   ],
   "source": [
    "l = [1,2,3,4,5,5,67,8,8,9,90,11]\n",
    "lson = l[-2: ]\n",
    "print(lson)\n"
   ]
  },
  {
   "cell_type": "markdown",
   "metadata": {},
   "source": [
    "### Cộng list"
   ]
  },
  {
   "cell_type": "code",
   "execution_count": 68,
   "metadata": {},
   "outputs": [
    {
     "name": "stdout",
     "output_type": "stream",
     "text": [
      "[2, 3, 2, 3]\n"
     ]
    }
   ],
   "source": [
    "l1 = [2,3]\n",
    "l2 = [3,4]\n",
    "l3= l1 + l1\n",
    "print(l3)"
   ]
  },
  {
   "cell_type": "markdown",
   "metadata": {},
   "source": [
    "### Thực hành: Thêm học sinh vào lớp"
   ]
  },
  {
   "cell_type": "code",
   "execution_count": 6,
   "metadata": {},
   "outputs": [
    {
     "name": "stdout",
     "output_type": "stream",
     "text": [
      "['Andy', 'Bella', 'Cindy', 'Daniel', 'Emma', 'Ferb', 'Gina']\n",
      "['Andy', 'Bella', 'Cindy', 'Daniel', 'Emma', 'Ferb', 'Gina', 'Emma', 'Ferb']\n",
      "['Andy', 'Bella', 'Cindy', 'Daniel', 'Emma', 'Ferb', 'Gina', 'Emma']\n",
      "['Emma', 'Ferb']\n"
     ]
    }
   ],
   "source": [
    "# Tạo một list danh_sach_lop chứa tên của 4 học sinh khác nhau và một list hoc_sinh_moi chứa tên của\n",
    "# 2 học sinh mới vào lớp. Hãy thêm tên các học sinh mới vào list danh_sach_lop bằng cách cộng list.\n",
    "danh_sach_lop = ['Andy', 'Bella', 'Cindy', 'Daniel']\n",
    "hoc_sinh_moi = ['Emma', 'Ferb']\n",
    "\n",
    "danh_sach_lop += hoc_sinh_moi\n",
    "danh_sach_lop.append(\"Gina\")\n",
    "print(danh_sach_lop)\n",
    "\n",
    "danh_sach_lop.extend(hoc_sinh_moi)\n",
    "print(danh_sach_lop)\n",
    "\n",
    "danh_sach_lop.pop()\n",
    "print(danh_sach_lop)\n",
    "\n",
    "danh_sach_lop = hoc_sinh_moi[:2]\n",
    "print(danh_sach_lop)"
   ]
  },
  {
   "cell_type": "markdown",
   "metadata": {},
   "source": [
    "### Kiểm tra phần tử tồn tại trong list"
   ]
  },
  {
   "cell_type": "code",
   "execution_count": null,
   "metadata": {},
   "outputs": [],
   "source": []
  },
  {
   "cell_type": "markdown",
   "metadata": {},
   "source": [
    "### Xóa phần tử khỏi list"
   ]
  },
  {
   "cell_type": "code",
   "execution_count": 89,
   "metadata": {},
   "outputs": [
    {
     "name": "stdout",
     "output_type": "stream",
     "text": [
      "please input x: 12\n",
      "[1, 23, 4, 5, 6, 76, 333]\n"
     ]
    }
   ],
   "source": [
    "l = [1,23,12,4,5,6,76,12,12,12,333]\n",
    "x = int(input(\"please input x: \"))\n",
    "\n",
    "while(x in l):\n",
    "    l.remove(x)\n",
    "    \n",
    "print(l)"
   ]
  },
  {
   "cell_type": "markdown",
   "metadata": {},
   "source": [
    "### Sắp xếp list"
   ]
  },
  {
   "cell_type": "code",
   "execution_count": 150,
   "metadata": {},
   "outputs": [
    {
     "name": "stdout",
     "output_type": "stream",
     "text": [
      "1\n",
      "1.0\n"
     ]
    }
   ],
   "source": [
    "def sap_xep_ds_tang(danhSachSo):\n",
    "    for i in range(len(danhSachSo)):\n",
    "       #Luu vi tri nho nhat\n",
    "        viTriNhoNhat = i\n",
    "        for j in range(i + 1, len(danhSachSo)):\n",
    "            if danhSachSo[j] < danhSachSo[viTriNhoNhat]:\n",
    "                viTriNhoNhat = j\n",
    "       #Doi vi tri phan tu thu i dang xet voi phan tu nho nhat\n",
    "    danhSachSo[i], danhSachSo[viTriNhoNhat] = danhSachSo[viTriNhoNhat], danhSachSo[i]\n",
    "  \n",
    "\n",
    "    #Nhap danh sach tu ban phim\n",
    "danhSach = input().split()\n",
    "#Kiem tra xem danh sach co rong hay khong\n",
    "if len(danhSach) == 0:\n",
    "    print(\"Danh sach rong\")\n",
    "else:\n",
    "   #Khoi lenh co the phat sinh loi\n",
    "   try:\n",
    "       #Ep kieu du lieu sang so thuc\n",
    "       danhSachSo = list(map(float, danhSach))\n",
    "       #Goi thuc thi ham va truyen tham so cho ham\n",
    "       sap_xep_ds_tang(danhSachSo)\n",
    "       #Unpacking arguments\n",
    "       print(*danhSachSo)\n",
    "\n",
    "   #Khoi lenh duoc thuc thi khi loi xay ra\n",
    "   except:\n",
    "        print(\"Vui long nhap cac phan tu la so thuc!\")\n"
   ]
  },
  {
   "cell_type": "markdown",
   "metadata": {},
   "source": [
    "### Làm rỗng list"
   ]
  },
  {
   "cell_type": "code",
   "execution_count": null,
   "metadata": {},
   "outputs": [],
   "source": []
  },
  {
   "cell_type": "markdown",
   "metadata": {},
   "source": [
    "### Copy list"
   ]
  },
  {
   "cell_type": "code",
   "execution_count": null,
   "metadata": {},
   "outputs": [],
   "source": []
  },
  {
   "cell_type": "markdown",
   "metadata": {},
   "source": [
    "## tuple"
   ]
  },
  {
   "cell_type": "code",
   "execution_count": null,
   "metadata": {},
   "outputs": [],
   "source": []
  }
 ],
 "metadata": {
  "kernelspec": {
   "display_name": "Python 3 (ipykernel)",
   "language": "python",
   "name": "python3"
  },
  "language_info": {
   "codemirror_mode": {
    "name": "ipython",
    "version": 3
   },
   "file_extension": ".py",
   "mimetype": "text/x-python",
   "name": "python",
   "nbconvert_exporter": "python",
   "pygments_lexer": "ipython3",
   "version": "3.11.1"
  }
 },
 "nbformat": 4,
 "nbformat_minor": 4
}
