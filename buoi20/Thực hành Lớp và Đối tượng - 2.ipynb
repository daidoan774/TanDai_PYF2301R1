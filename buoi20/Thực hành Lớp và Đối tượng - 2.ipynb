{
 "cells": [
  {
   "cell_type": "code",
   "execution_count": 2,
   "id": "a42fa0c7",
   "metadata": {},
   "outputs": [
    {
     "data": {
      "text/plain": [
       "'\\nTạo class có tên MathUtils gồm có các thuộc tính và phương thức sau:\\n+ Thuộc tính: number1, number2\\n+ Phương thức:\\n- Phương thức tạo __init()__\\n- print_info(): dùng để hiển thị number1, number2\\n- addition(): trả về kết quả phép cộng number1, number2\\n- subtract(): trả về kết quả phép trừ number1, number2\\n- multi(): trả về kết quả phép nhân number1, number2\\n- division(): trả về kết quả phép chia number1, number2.\\n\\nSau khi tạo class, khởi tạo một object SoHoc và in ra kết quả tính toán từ các hàm thực hiện phép tính\\n'"
      ]
     },
     "execution_count": 2,
     "metadata": {},
     "output_type": "execute_result"
    }
   ],
   "source": [
    "\"\"\"\n",
    "Tạo class có tên MathUtils gồm có các thuộc tính và phương thức sau:\n",
    "+ Thuộc tính: number1, number2\n",
    "+ Phương thức:\n",
    "- Phương thức tạo __init()__\n",
    "- print_info(): dùng để hiển thị number1, number2\n",
    "- addition(): trả về kết quả phép cộng number1, number2\n",
    "- subtract(): trả về kết quả phép trừ number1, number2\n",
    "- multi(): trả về kết quả phép nhân number1, number2\n",
    "- division(): trả về kết quả phép chia number1, number2.\n",
    "\n",
    "Sau khi tạo class, khởi tạo một object SoHoc và in ra kết quả tính toán từ các hàm thực hiện phép tính\n",
    "\"\"\""
   ]
  },
  {
   "cell_type": "code",
   "execution_count": 46,
   "id": "9cee6f0f",
   "metadata": {},
   "outputs": [],
   "source": [
    "class MathUtils:\n",
    "    def __init__(self,n1,n2):\n",
    "        self.number1 = n1\n",
    "        self.number2 = n2\n",
    "        \n",
    "    def addition(self):\n",
    "        return self.number1 + self.number2\n",
    "    def subtract(self):\n",
    "        return self.number1 - self.number2\n",
    "    def multi(self):\n",
    "        return self.number1 * self.number2\n",
    "    def division(self):\n",
    "        if self.number2 == 0:\n",
    "            return False\n",
    "           \n",
    "        else:\n",
    "            return self.number1 / self.number2\n",
    "    def print_info(self):\n",
    "        while self.division() == False:\n",
    "            print(\"Ban that ngu ngoc---- chia ma  = 0 sao \")\n",
    "            self.number2 = int(input(\"nhap lai gium number2: \"))\n",
    "        else:\n",
    "            print(f\"{self.number1} + {self.number2} = {self.addition()}\")\n",
    "            print(f\"{self.number1} - {self.number2} = {self.subtract()}\")\n",
    "            print(f\"{self.number1} * {self.number2} = {self.multi()}\")\n",
    "            print(f\"{self.number1} / {self.number2} = {self.division()}\")\n",
    "            \n",
    "            "
   ]
  },
  {
   "cell_type": "code",
   "execution_count": 47,
   "id": "e086cdf4",
   "metadata": {},
   "outputs": [
    {
     "name": "stdout",
     "output_type": "stream",
     "text": [
      "input number1: 4\n",
      "input number2: 0\n",
      "Ban that ngu ngoc---- chia ma  = 0 sao \n",
      "nhap lai gium number2: 0\n",
      "Ban that ngu ngoc---- chia ma  = 0 sao \n",
      "nhap lai gium number2: 0\n",
      "Ban that ngu ngoc---- chia ma  = 0 sao \n",
      "nhap lai gium number2: 7\n",
      "4 + 7 = 11\n",
      "4 - 7 = -3\n",
      "4 * 7 = 28\n",
      "4 / 7 = 0.5714285714285714\n"
     ]
    }
   ],
   "source": [
    "a = int(input(\"input number1: \"))\n",
    "b = int(input(\"input number2: \"))\n",
    "sohoc = MathUtils(a,b)\n",
    "sohoc.print_info()"
   ]
  }
 ],
 "metadata": {
  "kernelspec": {
   "display_name": "Python 3 (ipykernel)",
   "language": "python",
   "name": "python3"
  },
  "language_info": {
   "codemirror_mode": {
    "name": "ipython",
    "version": 3
   },
   "file_extension": ".py",
   "mimetype": "text/x-python",
   "name": "python",
   "nbconvert_exporter": "python",
   "pygments_lexer": "ipython3",
   "version": "3.11.1"
  }
 },
 "nbformat": 4,
 "nbformat_minor": 5
}
