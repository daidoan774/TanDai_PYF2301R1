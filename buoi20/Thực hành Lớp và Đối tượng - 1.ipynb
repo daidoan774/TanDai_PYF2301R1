{
 "cells": [
  {
   "cell_type": "code",
   "execution_count": null,
   "id": "1b7705b3",
   "metadata": {},
   "outputs": [],
   "source": [
    "\"\"\"\n",
    "Viết class NhanVien gồm các thuộc tính:\n",
    "+ Tên\n",
    "+ Tuổi\n",
    "+ Địa chỉ\n",
    "+ Tiền lương\n",
    "+ Tổng số giờ làm\n",
    "\n",
    "Và các phương thức:\n",
    "- Phương thức tạo\n",
    "- input_info() : Nhập các thông tin cho nhân viên từ bàn phím\n",
    "- print_info() : In ra tất cả các thông tin của nhân viên\n",
    "- tinh_thuong(): Tính toán và trả về số tiền thưởng của nhân viên theo công thức sau:\n",
    "Nếu tổng số giờ làm của nhân viên >=200 thì thưởng = lương * 20%\n",
    "Nếu tổng số giờ làm của nhân viên <200 và >=100 thì thưởng = lương * 10%\n",
    "Nếu tổng số giờ làm của nhân viên <100 thì thưởng = 0\n",
    "\"\"\""
   ]
  },
  {
   "cell_type": "code",
   "execution_count": 48,
   "id": "3cf0f41d",
   "metadata": {},
   "outputs": [],
   "source": [
    "class NhanVien:\n",
    "    def __init__(self):\n",
    "        self.ten = \"\"\n",
    "        self.tuoi = 0\n",
    "        self.dia_chi = \"\"\n",
    "        self.luong = 0\n",
    "        self.tong_gio = 0\n",
    "        \n",
    "    def input_info(self):\n",
    "        self.ten = input(\"nhap ten cho nhan vien: \")\n",
    "        self.tuoi = input(\"nhap tuoi cho nhan vien: \")\n",
    "        self.dia_chi  = input(\"nhap dia chi: \")\n",
    "        self.luong = int(input(\"nhap tien luong cho nhan vien\"))\n",
    "        self.tong_gio = int(input(\"nhap tong gio lam cua nhan vien: \"))\n",
    "        \n",
    "    def tinh_thuong(self):\n",
    "        thuong = 0\n",
    "        tong = self.tong_gio\n",
    "        if  tong >= 200:\n",
    "            thuong =  tong * (20/100)\n",
    "            return thuong\n",
    "        elif tong >=100 and tong < 200:\n",
    "            thuong = tong * (10/100)\n",
    "            return thuong\n",
    "        else:\n",
    "            return thuong\n",
    "        \n",
    "    def print_info(self):\n",
    "        print(\"==============\")\n",
    "        print(\"ban da khoi tao xong thong tin cua nhan vien\")\n",
    "        print(f\"nhan vien ten la: {self.ten}\")\n",
    "        print(f\"tuoi nhan vien la: {self.tuoi}\")\n",
    "        print(f\"nhan vien o dia chi: {self.dia_chi}\")\n",
    "        print(f\"luong nhan vien la:{self.luong}\")\n",
    "        print(f\"nhan vien co tong gio lam la:{self.tong_gio}\")\n",
    "        print(f\"nhan vien co tien thuong la: {self.tinh_thuong()}VND\")\n",
    "        print(\"===================\")\n",
    "        \n",
    "            \n",
    "                \n",
    "        "
   ]
  },
  {
   "cell_type": "code",
   "execution_count": 46,
   "id": "656d7568",
   "metadata": {},
   "outputs": [
    {
     "name": "stdout",
     "output_type": "stream",
     "text": [
      "nhap ten cho nhan vien: ttasda\n",
      "nhap tuoi cho nhan vien: 12\n",
      "nhap dia chi: as12\n",
      "nhap tien luong cho nhan vien19900000\n",
      "nhap tong gio lam cua nhan vien: 180\n",
      "==============\n",
      "ban da khoi tao xong thong tin cua nhan vien\n",
      "nhan vien ten la: ttasda\n",
      "tuoi nhan vien la: 12\n",
      "nhan vien o dia chi: as12\n",
      "luong nhan vien la:19900000\n",
      "nhan vien co tong gio lam la:180\n",
      "nhan vien co tong gio lam la:18.0\n",
      "===================\n"
     ]
    }
   ],
   "source": [
    "nv1 = NhanVien()\n",
    "nv1.input_info()\n",
    "nv1.print_info()"
   ]
  }
 ],
 "metadata": {
  "kernelspec": {
   "display_name": "Python 3 (ipykernel)",
   "language": "python",
   "name": "python3"
  },
  "language_info": {
   "codemirror_mode": {
    "name": "ipython",
    "version": 3
   },
   "file_extension": ".py",
   "mimetype": "text/x-python",
   "name": "python",
   "nbconvert_exporter": "python",
   "pygments_lexer": "ipython3",
   "version": "3.11.1"
  }
 },
 "nbformat": 4,
 "nbformat_minor": 5
}
