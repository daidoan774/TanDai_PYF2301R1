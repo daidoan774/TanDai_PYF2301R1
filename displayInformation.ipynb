{
 "cells": [
  {
   "cell_type": "code",
   "execution_count": 3,
   "id": "13abfb29",
   "metadata": {},
   "outputs": [
    {
     "name": "stdout",
     "output_type": "stream",
     "text": [
      "Tôi tên là Đoàn Dương Tấn Đại.Sinh năm 2001. Chuyên ngành Kỹ thuật phần mềm\n"
     ]
    }
   ],
   "source": [
    "print(\"Tôi tên là Đoàn Dương Tấn Đại.Sinh năm 2001. Chuyên ngành Kỹ thuật phần mềm\")"
   ]
  }
 ],
 "metadata": {
  "kernelspec": {
   "display_name": "Python 3 (ipykernel)",
   "language": "python",
   "name": "python3"
  },
  "language_info": {
   "codemirror_mode": {
    "name": "ipython",
    "version": 3
   },
   "file_extension": ".py",
   "mimetype": "text/x-python",
   "name": "python",
   "nbconvert_exporter": "python",
   "pygments_lexer": "ipython3",
   "version": "3.11.1"
  }
 },
 "nbformat": 4,
 "nbformat_minor": 5
}
