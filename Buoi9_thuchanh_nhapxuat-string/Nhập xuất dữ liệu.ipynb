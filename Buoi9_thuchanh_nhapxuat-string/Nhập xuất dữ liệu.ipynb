{
 "cells": [
  {
   "cell_type": "code",
   "execution_count": null,
   "id": "6c40f6ee",
   "metadata": {},
   "outputs": [],
   "source": [
    "n = int(input(\"nhập một số nguyên a = \"))\n",
    "result = n * n\n",
    "print(\"bình phương của \",n,\"là\",result)"
   ]
  },
  {
   "cell_type": "code",
   "execution_count": 39,
   "id": "2631b600",
   "metadata": {},
   "outputs": [
    {
     "name": "stdout",
     "output_type": "stream",
     "text": [
      "STT: 1\n",
      "Họ và tên: Nguyen van A,\n",
      "Math: 8.0\n",
      "Physics: 9.5\n",
      "Chemistry: 7.4\n",
      "Tổng điểm trung bình: 8.3\n"
     ]
    }
   ],
   "source": [
    "title = \"no., Fullname,Math,Physics,Chemistry\"\n",
    "data = \"1,Nguyen van A,8.0,9.5,7.4\"\n",
    "#trich xuất điểm toán lý hóa , và tính điểm trung bình hs A\n",
    "\n",
    "a = data[:1]\n",
    "b = data[2:15]\n",
    "c = float(data[15:18])\n",
    "d = float(data[19:22])\n",
    "e = float(data[23:26])\n",
    "sum = round((c + d + e)/3,1)\n",
    "print(\"STT:\",a)\n",
    "print(\"Họ và tên:\",b)\n",
    "print(\"Math:\",c)\n",
    "print(\"Physics:\",d)\n",
    "print(\"Chemistry:\",e)\n",
    "print(\"Tổng điểm trung bình:\",sum)\n",
    "\n",
    "\n",
    "      "
   ]
  }
 ],
 "metadata": {
  "kernelspec": {
   "display_name": "Python 3 (ipykernel)",
   "language": "python",
   "name": "python3"
  },
  "language_info": {
   "codemirror_mode": {
    "name": "ipython",
    "version": 3
   },
   "file_extension": ".py",
   "mimetype": "text/x-python",
   "name": "python",
   "nbconvert_exporter": "python",
   "pygments_lexer": "ipython3",
   "version": "3.11.1"
  }
 },
 "nbformat": 4,
 "nbformat_minor": 5
}
